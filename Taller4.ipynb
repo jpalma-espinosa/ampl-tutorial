{
 "cells": [
  {
   "cell_type": "code",
   "execution_count": 1,
   "id": "aaf91dd5-6c8f-4e0e-a707-f16f0c1a38a2",
   "metadata": {},
   "outputs": [],
   "source": [
    "from amplpy import AMPL, ampl_notebook\n",
    "import pandas\n",
    "import matplotlib.pyplot as plt\n",
    "import numpy"
   ]
  },
  {
   "cell_type": "code",
   "execution_count": 2,
   "id": "d90a5516-6fea-438f-9f0a-bdaedbbd2341",
   "metadata": {},
   "outputs": [
    {
     "name": "stdout",
     "output_type": "stream",
     "text": [
      "Licensed to AMPL Academic Community Edition License for <j.palmaespinosa@uandresbello.edu>.\n"
     ]
    }
   ],
   "source": [
    "license = \"a08a4945-4807-4400-83da-e35bdca430e4\"\n",
    "ampl = ampl_notebook(\n",
    "    modules=[\"highs\", \"cbc\", \"gurobi\", \"cplex\"], # pick from over 20 modules including most commercial and open-source solvers\n",
    "    license_uuid=license) # La licencia del curso. Si la cambia, esto no funciona."
   ]
  },
  {
   "cell_type": "markdown",
   "id": "d99255f9-4014-4d0b-b463-3046712e79d1",
   "metadata": {},
   "source": [
    "\n",
    "# Introducción\n",
    "\n",
    "En los talleres anteriores Ud. ha trabajado con códigos AMPL y ha resuelto un conjunto acotado de problemas.  Como recordará, la potencia de AMPL radica en poder escribir el modelo de forma general, de forma que Ud. se concentre en modelar, no en resolver.  \n",
    "En este taller, el objetivo será justo ese: Modelar.\n",
    "\n",
    "Para ello, se incluyeron un conjunto de datos para diferentes problemas (camino mínimo, flujo máximo y flujo a costo mínimo).\n",
    "Ud. deberá escribir el modelo general en AMPL y resolver cada uno de los problemas, cargando los datos correspondientes.\n",
    "\n",
    "**Nota: observe que los datos están en la carpeta _data_** \n",
    "\n",
    "---"
   ]
  },
  {
   "cell_type": "markdown",
   "id": "f8e29912-70fc-4760-a439-d3516c6da65d",
   "metadata": {},
   "source": [
    "## Problema 1\n",
    "Considere el problema general de camino mínimo.  \n",
    "\n",
    "\n",
    "\n",
    "1. Escriba el modelo general, en papel.\n",
    "2. implemente dicho modelo en AMPL.\n",
    "3. Revise los datos correspondientes y dibuje la red.\n",
    "4. Corra el modelo usando el conjunto de datos correspondientes y **verifique que el tiempo total empleado es 18**\n",
    "5. Dibuje la ruta recorrida.\n",
    "\n",
    "---"
   ]
  },
  {
   "cell_type": "code",
   "execution_count": 4,
   "id": "455f9dbe-2f55-4184-a55c-aa4355121354",
   "metadata": {},
   "outputs": [
    {
     "name": "stdout",
     "output_type": "stream",
     "text": [
      "Writing caminoMinimo.mod\n"
     ]
    }
   ],
   "source": [
    "#Recuerde %%writefile caminoMinimo.mod\n",
    "# Codigo AMPL"
   ]
  },
  {
   "cell_type": "code",
   "execution_count": 9,
   "id": "d5a1d654-e7ef-42b1-834b-97d62c4efac0",
   "metadata": {},
   "outputs": [
    {
     "name": "stdout",
     "output_type": "stream",
     "text": [
      "CPLEX 22.1.2: optimal solution; objective 18\n",
      "0 simplex iterations\n",
      "Use :=\n",
      "a b   0\n",
      "a c   1\n",
      "a d   0\n",
      "b f   0\n",
      "b g   0\n",
      "c b   0\n",
      "c e   0\n",
      "c f   1\n",
      "d c   0\n",
      "d e   0\n",
      "e f   0\n",
      "e z   0\n",
      "f g   0\n",
      "f z   1\n",
      "g z   0\n",
      ";\n",
      "\n"
     ]
    }
   ],
   "source": [
    "# 1. Limpiamos la sesion anterior y creamos una nueva\n",
    "ampl.close()\n",
    "ampl = AMPL()\n",
    "# 2. Cargar el modelo dado un archivo MODELO.mod\n",
    "ampl.read(\"caminoMinimo.mod\")\n",
    "# 3. CARGAR LOS DATOS DEL PROBLEMA\n",
    "ampl.read_data(\"data_camino.dat\")\n",
    "# 3. Resolver con algún solver (puede revisar la documentación de AMPL).\n",
    "ampl.solve(solver=\"cplex\")\n",
    "\n",
    "assert ampl.solve_result == \"solved\"\n",
    "\n",
    "# Mostramos la respuesta.\n",
    "for var in [\"mi_variable\"]:\n",
    "    ampl.display(var)"
   ]
  },
  {
   "cell_type": "markdown",
   "id": "aa7bde17-bae5-4b07-97df-9a027ed5892e",
   "metadata": {},
   "source": [
    "---\n",
    "## Problema 2\n",
    "Considere el problema general de Flujo máximo.  \n",
    "\n",
    "\n",
    "1. Escriba el modelo general, en papel.\n",
    "2. Implemente dicho modelo en AMPL.\n",
    "3. Revise los datos correspondientes y dibuje la red.\n",
    "4. Corra el modelo usando el conjunto de datos correspondientes y **verifique que el flujo máximo es 35**\n",
    "5. Dibuje el resultado obtenido."
   ]
  },
  {
   "cell_type": "code",
   "execution_count": 14,
   "id": "30a6ccb2-13d0-4fa7-9671-3937de8be34b",
   "metadata": {},
   "outputs": [],
   "source": [
    "#%%writefile maxFlow.mod\n"
   ]
  },
  {
   "cell_type": "code",
   "execution_count": 13,
   "id": "ef2d4236-9f1c-4dd3-8598-5ed4b0066d1f",
   "metadata": {},
   "outputs": [
    {
     "name": "stdout",
     "output_type": "stream",
     "text": [
      "CPLEX 22.1.2: optimal solution; objective 35\n",
      "0 simplex iterations\n",
      "Entering_Traff = 35\n",
      "\n"
     ]
    }
   ],
   "source": [
    "# 1. Limpiamos la sesion anterior y creamos una nueva\n",
    "ampl.close()\n",
    "ampl = AMPL()\n",
    "# 2. Cargar el modelo dado un archivo MODELO.mod\n",
    "ampl.read(\"maxFlow.mod\")\n",
    "# 3. CARGAR LOS DATOS DEL PROBLEMA\n",
    "ampl.read_data(\"data.dat\")\n",
    "# 3. Resolver con algún solver (puede revisar la documentación de AMPL).\n",
    "ampl.solve(solver=\"cplex\")\n",
    "\n",
    "assert ampl.solve_result == \"solved\"\n",
    "\n",
    "# Mostramos la respuesta.\n",
    "for var in [\"mi_variable\"]:\n",
    "    ampl.display(var)"
   ]
  },
  {
   "cell_type": "markdown",
   "id": "7a427783-fb2d-41a0-b658-5c8150905e59",
   "metadata": {},
   "source": [
    "---\n",
    "## Problema 3\n",
    "Considere el problema general de Flujo a costo mínimo.  \n",
    "\n",
    "1. Escriba el modelo general, en papel.\n",
    "2. Implemente dicho modelo en AMPL.\n",
    "3. Revise los datos correspondientes y dibuje la red.\n",
    "4. Corra el modelo usando el conjunto de datos correspondientes y **verifique que el costo mínimo es 870 y que el flujo enviado es de 470**\n",
    "5. Dibuje el resultado obtenido.\n",
    "\n",
    "1. Escriba el modelo general, en papel\n",
    "2. implemente dicho modelo en AMPL.\n",
    "3. Corra el modelo usando el conjunto de datos correspondientes y "
   ]
  },
  {
   "cell_type": "code",
   "execution_count": 15,
   "id": "4cd4e30d-4aca-4a4e-ac55-f9e51fdaed61",
   "metadata": {},
   "outputs": [
    {
     "name": "stdout",
     "output_type": "stream",
     "text": [
      "Writing minFlow.mod\n"
     ]
    }
   ],
   "source": [
    "%%writefile minFlow.mod\n",
    "\n",
    "set NODES;\n",
    "set LINKS within(NODES cross NODES);  # edges between each node in the system\n",
    "\n",
    "param supply{NODES}>=0;  # Nodes\n",
    "param demand{NODES}>=0;\n",
    "param cost{LINKS} >= 0;   # shipment costs per unit\n",
    "param capacity{LINKS}>=0; # Capacity for source/sink\n",
    "\n",
    "var X{(i,j) in LINKS} >= 0, <= capacity[i,j];\n",
    "\n",
    "minimize Total_Cost:\n",
    "   sum {(i,j) in LINKS} cost[i,j] * X[i,j];\n",
    "\n",
    "subject to Balance {k in NODES}:\n",
    "      sum {(i,k) in LINKS} X[i,k] - sum {(k,j) in LINKS}X[k,j]\n",
    "        = demand[k] - supply[k] ;\n"
   ]
  },
  {
   "cell_type": "code",
   "execution_count": 20,
   "id": "582f8ae4-adce-4259-85f0-03b3f664188d",
   "metadata": {},
   "outputs": [
    {
     "name": "stdout",
     "output_type": "stream",
     "text": [
      "CPLEX 22.1.2: optimal solution; objective 870\n",
      "1 simplex iterations\n",
      "X :=\n",
      "D1 D3   120\n",
      "D2 D3     0\n",
      "S1 D1   100\n",
      "S1 S2     0\n",
      "S1 S3     0\n",
      "S2 D1   170\n",
      "S2 D2    30\n",
      "S3 D2    50\n",
      "S3 S2     0\n",
      ";\n",
      "\n"
     ]
    }
   ],
   "source": [
    "# 1. Limpiamos la sesion anterior y creamos una nueva\n",
    "ampl.close()\n",
    "ampl = AMPL()\n",
    "# 2. Cargar el modelo dado un archivo MODELO.mod\n",
    "ampl.read(\"minFlow.mod\")\n",
    "# 3. CARGAR LOS DATOS DEL PROBLEMA\n",
    "ampl.read_data(\"./data/minFlow_data.dat\")\n",
    "# 3. Resolver con algún solver (puede revisar la documentación de AMPL).\n",
    "ampl.solve(solver=\"cplex\")\n",
    "\n",
    "assert ampl.solve_result == \"solved\"\n",
    "\n",
    "# Mostramos la respuesta.\n",
    "for var in [\"X\"]:\n",
    "    ampl.display(var)"
   ]
  },
  {
   "cell_type": "markdown",
   "id": "4ad50812-9192-414a-a99b-123a2734aa8e",
   "metadata": {
    "jp-MarkdownHeadingCollapsed": true
   },
   "source": [
    "Cómo pudo observar, la idea es simple:\n",
    "\n",
    "```python\n",
    "# 1. Cargar AMPL\n",
    "ampl = AMPL()\n",
    "# 2. Cargar el modelo dado un archivo MODELO.mod\n",
    "ampl.read(\"MODELO.mod\")\n",
    "# 3. Resolver con algún solver (puede revisar la documentación de AMPL).\n",
    "ampl.solve(solver=\"cplex\")\n",
    "```\n",
    "\n",
    "Use la misma estructura para resolver el siguiente problema:\n",
    "\n",
    "\n",
    "> Una empresa fabrica tres productos: A, B y C. Cada uno requiere tiempo de máquina, material y mano de obra, con las siguientes necesidades por unidad producida:\n",
    "\n",
    "\n",
    "| Recurso           | Producto A | Producto B | Producto C | Disponibilidad |\n",
    "|:-----------------:|:----------:|:----------:|:----------:|:--------------|\n",
    "| Tiempo (h)        |          2 |          1 |          3 |            100 |\n",
    "| Material (kg)     |          3 |          4 |          2 |            120 |\n",
    "| Mano de obra (h)  |          1 |          2 |          1 |             90 |\n",
    "\n",
    "\n",
    "> Además, cada producto genera una utilidad:\n",
    "> - A: 30 unidades monetarias\n",
    "> - B: 20 unidades monetarias\n",
    "> - C: 40 unidades monetarias\n",
    ">   \n",
    "> Determine cuántas unidades de cada producto deben producirse para maximizar la utilidad total, respetando las restricciones de recursos."
   ]
  },
  {
   "cell_type": "code",
   "execution_count": null,
   "id": "7c84dbb8-fc27-434e-a59b-b4bc96e43b89",
   "metadata": {},
   "outputs": [],
   "source": [
    "# RESOLUCION EJEMPLO 2"
   ]
  },
  {
   "cell_type": "markdown",
   "id": "0ed60da8-0aed-47a2-8d22-053c30000b49",
   "metadata": {},
   "source": [
    "---"
   ]
  }
 ],
 "metadata": {
  "kernelspec": {
   "display_name": "Python 3 (ipykernel)",
   "language": "python",
   "name": "python3"
  },
  "language_info": {
   "codemirror_mode": {
    "name": "ipython",
    "version": 3
   },
   "file_extension": ".py",
   "mimetype": "text/x-python",
   "name": "python",
   "nbconvert_exporter": "python",
   "pygments_lexer": "ipython3",
   "version": "3.12.3"
  }
 },
 "nbformat": 4,
 "nbformat_minor": 5
}
