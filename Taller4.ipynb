{
 "cells": [
  {
   "cell_type": "code",
   "execution_count": null,
   "id": "aaf91dd5-6c8f-4e0e-a707-f16f0c1a38a2",
   "metadata": {},
   "outputs": [],
   "source": [
    "from amplpy import AMPL, ampl_notebook\n",
    "import pandas\n",
    "import matplotlib.pyplot as plt\n",
    "import numpy"
   ]
  },
  {
   "cell_type": "code",
   "execution_count": null,
   "id": "d90a5516-6fea-438f-9f0a-bdaedbbd2341",
   "metadata": {},
   "outputs": [],
   "source": [
    "license = \"a08a4945-4807-4400-83da-e35bdca430e4\"\n",
    "ampl = ampl_notebook(\n",
    "    modules=[\"highs\", \"cbc\", \"gurobi\", \"cplex\"], # pick from over 20 modules including most commercial and open-source solvers\n",
    "    license_uuid=license) # La licencia del curso. Si la cambia, esto no funciona."
   ]
  },
  {
   "cell_type": "markdown",
   "id": "d99255f9-4014-4d0b-b463-3046712e79d1",
   "metadata": {},
   "source": [
    "\n",
    "# Introducción\n",
    "\n",
    "En los talleres anteriores Ud. ha trabajado con códigos AMPL y ha resuelto un conjunto acotado de problemas.  Como recordará, la potencia de AMPL radica en poder escribir el modelo de forma general, de forma que Ud. se concentre en modelar, no en resolver.  \n",
    "En este taller, el objetivo será justo ese: Modelar.\n",
    "\n",
    "Para ello, se incluyeron un conjunto de datos para diferentes problemas (camino mínimo, flujo máximo y flujo a costo mínimo).\n",
    "Ud. deberá escribir el modelo general en AMPL y resolver cada uno de los problemas, cargando los datos correspondientes.\n",
    "\n",
    "**Nota: observe que los datos están en la carpeta _data_** \n",
    "\n",
    "---"
   ]
  },
  {
   "cell_type": "markdown",
   "id": "f8e29912-70fc-4760-a439-d3516c6da65d",
   "metadata": {},
   "source": [
    "## Problema 1\n",
    "Considere el problema general de camino mínimo.  \n",
    "\n",
    "\n",
    "\n",
    "1. Escriba el modelo general, en papel.\n",
    "2. implemente dicho modelo en AMPL.\n",
    "3. Revise los datos correspondientes y dibuje la red.\n",
    "4. Corra el modelo usando el conjunto de datos correspondientes y **verifique que el tiempo total empleado es 18**\n",
    "5. Dibuje la ruta recorrida.\n",
    "\n",
    "---"
   ]
  },
  {
   "cell_type": "code",
   "execution_count": null,
   "id": "455f9dbe-2f55-4184-a55c-aa4355121354",
   "metadata": {},
   "outputs": [],
   "source": [
    "#Recuerde %%writefile caminoMinimo.mod\n",
    "# Codigo AMPL"
   ]
  },
  {
   "cell_type": "code",
   "execution_count": null,
   "id": "d5a1d654-e7ef-42b1-834b-97d62c4efac0",
   "metadata": {},
   "outputs": [],
   "source": [
    "# 1. Limpiamos la sesion anterior y creamos una nueva\n",
    "ampl.close()\n",
    "ampl = AMPL()\n",
    "# 2. Cargar el modelo dado un archivo MODELO.mod\n",
    "ampl.read(\"caminoMinimo.mod\")\n",
    "# 3. CARGAR LOS DATOS DEL PROBLEMA\n",
    "ampl.read_data(\"data_camino.dat\")\n",
    "# 3. Resolver con algún solver (puede revisar la documentación de AMPL).\n",
    "ampl.solve(solver=\"cplex\")\n",
    "\n",
    "assert ampl.solve_result == \"solved\"\n",
    "\n",
    "# Mostramos la respuesta.\n",
    "for var in [\"mi_variable\"]:\n",
    "    ampl.display(var)"
   ]
  },
  {
   "cell_type": "markdown",
   "id": "aa7bde17-bae5-4b07-97df-9a027ed5892e",
   "metadata": {},
   "source": [
    "---\n",
    "## Problema 2\n",
    "Considere el problema general de Flujo máximo.  \n",
    "\n",
    "\n",
    "1. Escriba el modelo general, en papel.\n",
    "2. Implemente dicho modelo en AMPL.\n",
    "3. Revise los datos correspondientes y dibuje la red.\n",
    "4. Corra el modelo usando el conjunto de datos correspondientes y **verifique que el flujo máximo es 35**\n",
    "5. Dibuje el resultado obtenido."
   ]
  },
  {
   "cell_type": "code",
   "execution_count": null,
   "id": "30a6ccb2-13d0-4fa7-9671-3937de8be34b",
   "metadata": {},
   "outputs": [],
   "source": [
    "#%%writefile maxFlow.mod\n"
   ]
  },
  {
   "cell_type": "code",
   "execution_count": null,
   "id": "ef2d4236-9f1c-4dd3-8598-5ed4b0066d1f",
   "metadata": {},
   "outputs": [],
   "source": [
    "# 1. Limpiamos la sesion anterior y creamos una nueva\n",
    "ampl.close()\n",
    "ampl = AMPL()\n",
    "# 2. Cargar el modelo dado un archivo MODELO.mod\n",
    "ampl.read(\"maxFlow.mod\")\n",
    "# 3. CARGAR LOS DATOS DEL PROBLEMA\n",
    "ampl.read_data(\"data.dat\")\n",
    "# 3. Resolver con algún solver (puede revisar la documentación de AMPL).\n",
    "ampl.solve(solver=\"cplex\")\n",
    "\n",
    "assert ampl.solve_result == \"solved\"\n",
    "\n",
    "# Mostramos la respuesta.\n",
    "for var in [\"mi_variable\"]:\n",
    "    ampl.display(var)"
   ]
  },
  {
   "cell_type": "markdown",
   "id": "7a427783-fb2d-41a0-b658-5c8150905e59",
   "metadata": {},
   "source": [
    "---\n",
    "## Problema 3\n",
    "Considere el problema general de Flujo a costo mínimo.  \n",
    "\n",
    "1. Escriba el modelo general, en papel.\n",
    "2. Implemente dicho modelo en AMPL.\n",
    "3. Revise los datos correspondientes y dibuje la red.\n",
    "4. Corra el modelo usando el conjunto de datos correspondientes y **verifique que el costo mínimo es 870 y que el flujo enviado es de 470**\n",
    "5. Dibuje la red obtenida."
   ]
  },
  {
   "cell_type": "code",
   "execution_count": null,
   "id": "4cd4e30d-4aca-4a4e-ac55-f9e51fdaed61",
   "metadata": {},
   "outputs": [],
   "source": [
    "#%%writefile minFlow.mod"
   ]
  },
  {
   "cell_type": "code",
   "execution_count": null,
   "id": "582f8ae4-adce-4259-85f0-03b3f664188d",
   "metadata": {},
   "outputs": [],
   "source": [
    "# 1. Limpiamos la sesion anterior y creamos una nueva\n",
    "ampl.close()\n",
    "ampl = AMPL()\n",
    "# 2. Cargar el modelo dado un archivo MODELO.mod\n",
    "ampl.read(\"minFlow.mod\")\n",
    "# 3. CARGAR LOS DATOS DEL PROBLEMA\n",
    "ampl.read_data(\"data.dat\")\n",
    "# 3. Resolver con algún solver (puede revisar la documentación de AMPL).\n",
    "ampl.solve(solver=\"cplex\")\n",
    "\n",
    "assert ampl.solve_result == \"solved\"\n",
    "\n",
    "# Mostramos la respuesta.\n",
    "for var in [\"mi_variable\"]:\n",
    "    ampl.display(var)"
   ]
  }
 ],
 "metadata": {
  "kernelspec": {
   "display_name": "Python 3 (ipykernel)",
   "language": "python",
   "name": "python3"
  },
  "language_info": {
   "codemirror_mode": {
    "name": "ipython",
    "version": 3
   },
   "file_extension": ".py",
   "mimetype": "text/x-python",
   "name": "python",
   "nbconvert_exporter": "python",
   "pygments_lexer": "ipython3",
   "version": "3.12.3"
  }
 },
 "nbformat": 4,
 "nbformat_minor": 5
}
