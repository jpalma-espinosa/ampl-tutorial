{
 "cells": [
  {
   "cell_type": "code",
   "execution_count": 3,
   "id": "aaf91dd5-6c8f-4e0e-a707-f16f0c1a38a2",
   "metadata": {},
   "outputs": [],
   "source": [
    "from amplpy import AMPL, ampl_notebook\n",
    "import pandas\n",
    "import matplotlib.pyplot as plt\n",
    "import numpy"
   ]
  },
  {
   "cell_type": "code",
   "execution_count": 5,
   "id": "d90a5516-6fea-438f-9f0a-bdaedbbd2341",
   "metadata": {},
   "outputs": [
    {
     "name": "stdout",
     "output_type": "stream",
     "text": [
      "Licensed to AMPL Academic Community Edition License for <j.palmaespinosa@uandresbello.edu>.\n"
     ]
    }
   ],
   "source": [
    "license = \"a08a4945-4807-4400-83da-e35bdca430e4\"\n",
    "ampl = ampl_notebook(\n",
    "    modules=[\"highs\", \"cbc\", \"gurobi\", \"cplex\"], # pick from over 20 modules including most commercial and open-source solvers\n",
    "    license_uuid=license) # La licencia del curso. Si la cambia, esto no funciona."
   ]
  },
  {
   "cell_type": "markdown",
   "id": "d99255f9-4014-4d0b-b463-3046712e79d1",
   "metadata": {},
   "source": [
    "---\n",
    "# Introducción\n",
    "\n",
    "AMPL (A Mathematical Programming Language) es un lenguaje diseñado para expresar este tipo de problemas —con precisión matemática, pero en un formato legible y reutilizable—. No es un lenguaje de programación general. Es un lenguaje de modelado: permite escribir el “qué” del problema (el modelo), sin preocuparse por el “cómo” resolverlo.\n",
    "\n",
    "Entonces, AMPL es un *lenguaje de modelado algebraico*, que permite formular y resolver problemas de optimización (LP, MILP, NLP, etc.). AMPL fue diseñado para ser legible y estructurado como una descripción matemática del problema.  Se usa junto a solvers como CPLEX, Gurobi, o MINOS.\n",
    "\n",
    "Una de las grandes ventajas de AMPL es que permite una separación y claridad entre modelo, datos y resultado.  Además, es un lenguaje escalable desde prototipos a problemas reales.  Esto significa que con poco o ningún cambio en el modelo, es factible resolver una gran gantidad de problemas."
   ]
  },
  {
   "cell_type": "markdown",
   "id": "f8e29912-70fc-4760-a439-d3516c6da65d",
   "metadata": {},
   "source": [
    "## Archivos principales\n",
    "Para lograr ejecutar un modelo y obtener resultados claros y reproducibles, se suele separar el problema en tres áreas y, por tanto, en tres archivos.\n",
    "\n",
    "- Modelo (.mod): describe las variables, restricciones y función objetivo.\n",
    "- Datos (.dat): proporciona los valores concretos para los parámetros del modelo.\n",
    "- Script (.run o consola): ejecuta el modelo y muestra resultados.\n",
    "\n",
    "En este caso, es posible escribir directamente el modelo o cargarlo desde un archivo aparte.\n",
    "\n",
    "**Ejemplo**\n",
    "> Ud. tiene una panadería donde fabrica dos tipos de productos: pan integral y pan dulce.\n",
    "Dispone de 300 kilos de harina y 180 horas de uso de horno. El pan integral usa 1.5 kg de harina, 2  hrs de horno y proporciona una ganancia de 5u.m por pieza.  Por otro lado, el pan dulce usa 2.0 kg de harina, una hora de horneado y le entrega una ganancia de 4 u.m.  Determine la cantidad de panes a hornear para maximizar su ganancia.  Para ello, *plantee el problema de Programación lineal.*\n",
    "\n",
    "1. Escriba el modelo que permita resolver este ejemplo, **en papel**\n",
    "2. Observe cómo es implementado en AMPL"
   ]
  },
  {
   "cell_type": "markdown",
   "id": "aa7bde17-bae5-4b07-97df-9a027ed5892e",
   "metadata": {},
   "source": [
    "---\n",
    "# Ejemplo 1"
   ]
  },
  {
   "cell_type": "code",
   "execution_count": 37,
   "id": "9df62140-3bfb-46c0-b45a-c78439f214c2",
   "metadata": {},
   "outputs": [
    {
     "name": "stdout",
     "output_type": "stream",
     "text": [
      "Writing panaderia.mod\n"
     ]
    }
   ],
   "source": [
    "%%writefile panaderia.mod\n",
    "# Acá Ud. debe escribir su modelo.  \n",
    "# La linea %%writefile nombre.mod guarda lo que ud. escriba\n",
    "# como nombre.mod. Es lo primero que debe ir en este bloque\n",
    "# Este será el modelo que usaremos para resolver el problema\n",
    "\n",
    "\n",
    "######\n",
    "# EJEMPLO 1\n",
    "# Ud. puede nombrar a sus variables,\n",
    "# restricciones y F.O. como lo desee.\n",
    "######\n",
    "\n",
    "\n",
    "# Variables.\n",
    "# Observe además que se incorporan\n",
    "# las restricciones de No-Negatividad.\n",
    "var x >= 0; #pan integral\n",
    "var y >= 0; #pan dulce\n",
    "\n",
    "# Función objetivo.\n",
    "maximize Z: 5*x + 4*y;\n",
    "\n",
    "# Restricciones.\n",
    "subject to harina: 1.5*x + 2*y <= 300;\n",
    "s.t.  horno: 2*x + y <= 180;"
   ]
  },
  {
   "cell_type": "code",
   "execution_count": 38,
   "id": "ea56dd00-8011-47f2-a4ec-4fa32b816cf4",
   "metadata": {},
   "outputs": [],
   "source": [
    "#Cargamos el entorno de ejecución AMPL\n",
    "# Esto se hace sólo una vez\n",
    "ampl = AMPL()"
   ]
  },
  {
   "cell_type": "code",
   "execution_count": 39,
   "id": "d5898236-2a01-40b3-a6c1-e44ee52819c1",
   "metadata": {},
   "outputs": [],
   "source": [
    "# Carga del modelo.\n",
    "ampl.read(\"panaderia.mod\")"
   ]
  },
  {
   "cell_type": "code",
   "execution_count": 40,
   "id": "a06288a6-777a-4d23-9844-a4dc4b59f230",
   "metadata": {},
   "outputs": [
    {
     "name": "stdout",
     "output_type": "stream",
     "text": [
      "CPLEX 22.1.2: optimal solution; objective 648\n",
      "2 simplex iterations\n",
      "x = 24\n",
      "\n",
      "y = 132\n",
      "\n",
      "Z = 648\n",
      "\n"
     ]
    }
   ],
   "source": [
    "# Solve with CPLEX\n",
    "ampl.solve(solver=\"cplex\")\n",
    "#Esto es para cerciorarse que el sistema se resolvió\n",
    "assert ampl.solve_result == \"solved\"\n",
    "\n",
    "# Mostramos la respuesta.\n",
    "for var in [\"x\",\"y\",\"Z\"]:\n",
    "    ampl.display(var)"
   ]
  },
  {
   "cell_type": "markdown",
   "id": "c450df36-0b82-45fa-b72a-d45f9ace371d",
   "metadata": {},
   "source": [
    "Observe que la ganancia máxima es de 648 u.m., elaborando 24 panes integrales y 132 panes dulces"
   ]
  },
  {
   "cell_type": "markdown",
   "id": "750a0b9e-bcb2-4cbd-b3a7-2f6183ebeb67",
   "metadata": {},
   "source": [
    "---"
   ]
  },
  {
   "cell_type": "markdown",
   "id": "4ad50812-9192-414a-a99b-123a2734aa8e",
   "metadata": {},
   "source": [
    "# Ejemplo 2\n",
    "\n",
    "Cómo pudo observar, la idea es simple:\n",
    "\n",
    "```python\n",
    "# 1. Cargar AMPL\n",
    "ampl = AMPL()\n",
    "# 2. Cargar el modelo dado un archivo MODELO.mod\n",
    "ampl.read(\"MODELO.mod\")\n",
    "# 3. Resolver con algún solver (puede revisar la documentación de AMPL).\n",
    "ampl.solve(solver=\"cplex\")\n",
    "```\n",
    "\n",
    "Use la misma estructura para resolver el siguiente problema:\n",
    "\n",
    "\n",
    "> Una empresa fabrica tres productos: A, B y C. Cada uno requiere tiempo de máquina, material y mano de obra, con las siguientes necesidades por unidad producida:\n",
    "\n",
    "\n",
    "| Recurso           | Producto A | Producto B | Producto C | Disponibilidad |\n",
    "|:-----------------:|:----------:|:----------:|:----------:|:--------------|\n",
    "| Tiempo (h)        |          2 |          1 |          3 |            100 |\n",
    "| Material (kg)     |          3 |          4 |          2 |            120 |\n",
    "| Mano de obra (h)  |          1 |          2 |          1 |             90 |\n",
    "\n",
    "\n",
    "> Además, cada producto genera una utilidad:\n",
    "> - A: 30 unidades monetarias\n",
    "> - B: 20 unidades monetarias\n",
    "> - C: 40 unidades monetarias\n",
    ">   \n",
    "> Determine cuántas unidades de cada producto deben producirse para maximizar la utilidad total, respetando las restricciones de recursos."
   ]
  },
  {
   "cell_type": "code",
   "execution_count": 36,
   "id": "7c84dbb8-fc27-434e-a59b-b4bc96e43b89",
   "metadata": {},
   "outputs": [],
   "source": [
    "# RESOLUCION EJEMPLO 2"
   ]
  },
  {
   "cell_type": "markdown",
   "id": "0ed60da8-0aed-47a2-8d22-053c30000b49",
   "metadata": {},
   "source": [
    "---"
   ]
  },
  {
   "cell_type": "code",
   "execution_count": null,
   "id": "70d99208-e1bf-47f6-b230-55bb430a6728",
   "metadata": {},
   "outputs": [],
   "source": []
  }
 ],
 "metadata": {
  "kernelspec": {
   "display_name": "Python 3 (ipykernel)",
   "language": "python",
   "name": "python3"
  },
  "language_info": {
   "codemirror_mode": {
    "name": "ipython",
    "version": 3
   },
   "file_extension": ".py",
   "mimetype": "text/x-python",
   "name": "python",
   "nbconvert_exporter": "python",
   "pygments_lexer": "ipython3",
   "version": "3.12.3"
  }
 },
 "nbformat": 4,
 "nbformat_minor": 5
}
