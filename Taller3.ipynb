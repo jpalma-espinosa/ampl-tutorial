{
 "cells": [
  {
   "cell_type": "code",
   "execution_count": 1,
   "id": "aaf91dd5-6c8f-4e0e-a707-f16f0c1a38a2",
   "metadata": {},
   "outputs": [],
   "source": [
    "from amplpy import AMPL, ampl_notebook\n",
    "import pandas\n",
    "import matplotlib.pyplot as plt\n",
    "import numpy"
   ]
  },
  {
   "cell_type": "code",
   "execution_count": 2,
   "id": "d90a5516-6fea-438f-9f0a-bdaedbbd2341",
   "metadata": {},
   "outputs": [
    {
     "name": "stdout",
     "output_type": "stream",
     "text": [
      "Licensed to AMPL Academic Community Edition License for <j.palmaespinosa@uandresbello.edu>.\n"
     ]
    }
   ],
   "source": [
    "license = \"a08a4945-4807-4400-83da-e35bdca430e4\"\n",
    "ampl = ampl_notebook(\n",
    "    modules=[\"highs\", \"cbc\", \"gurobi\", \"cplex\"], # pick from over 20 modules including most commercial and open-source solvers\n",
    "    license_uuid=license) # La licencia del curso. Si la cambia, esto no funciona."
   ]
  },
  {
   "cell_type": "markdown",
   "id": "d99255f9-4014-4d0b-b463-3046712e79d1",
   "metadata": {},
   "source": [
    "---\n",
    "# Introducción\n",
    "\n",
    "AMPL (A Mathematical Programming Language) es un lenguaje diseñado para expresar este tipo de problemas —con precisión matemática, pero en un formato legible y reutilizable—. No es un lenguaje de programación general. Es un lenguaje de modelado: permite escribir el “qué” del problema (el modelo), sin preocuparse por el “cómo” resolverlo.\n",
    "\n",
    "Entonces, AMPL es un *lenguaje de modelado algebraico*, que permite formular y resolver problemas de optimización (LP, MILP, NLP, etc.). AMPL fue diseñado para ser legible y estructurado como una descripción matemática del problema.  Se usa junto a solvers como CPLEX, Gurobi, o MINOS.\n",
    "\n",
    "Una de las grandes ventajas de AMPL es que permite una separación y claridad entre modelo, datos y resultado.  Además, es un lenguaje escalable desde prototipos a problemas reales.  Esto significa que con poco o ningún cambio en el modelo, es factible resolver una gran gantidad de problemas."
   ]
  },
  {
   "cell_type": "markdown",
   "id": "f8e29912-70fc-4760-a439-d3516c6da65d",
   "metadata": {
    "jp-MarkdownHeadingCollapsed": true
   },
   "source": [
    "## Archivos principales\n",
    "Para lograr ejecutar un modelo y obtener resultados claros y reproducibles, se suele separar el problema en tres áreas y, por tanto, en tres archivos.\n",
    "\n",
    "- Modelo (.mod): describe las variables, restricciones y función objetivo.\n",
    "- Datos (.dat): proporciona los valores concretos para los parámetros del modelo.\n",
    "- Script (.run o consola): ejecuta el modelo y muestra resultados.\n",
    "\n",
    "En este caso, es posible escribir directamente el modelo o cargarlo desde un archivo aparte.\n",
    "\n",
    "**Ejemplo**\n",
    "> Ud. tiene una panadería donde fabrica dos tipos de productos: pan integral y pan dulce.\n",
    "Dispone de 300 kilos de harina y 180 horas de uso de horno. El pan integral usa 1.5 kg de harina, 2  hrs de horno y proporciona una ganancia de 5u.m por pieza.  Por otro lado, el pan dulce usa 2.0 kg de harina, una hora de horneado y le entrega una ganancia de 4 u.m.  Determine la cantidad de panes a hornear para maximizar su ganancia.  Para ello, *plantee el problema de Programación lineal.*\n",
    "\n",
    "1. Escriba el modelo que permita resolver este ejemplo, **en papel**\n",
    "2. Observe cómo es implementado en AMPL"
   ]
  },
  {
   "cell_type": "markdown",
   "id": "aa7bde17-bae5-4b07-97df-9a027ed5892e",
   "metadata": {
    "jp-MarkdownHeadingCollapsed": true
   },
   "source": [
    "---\n",
    "# Ejercicio 1"
   ]
  },
  {
   "cell_type": "code",
   "execution_count": 3,
   "id": "9df62140-3bfb-46c0-b45a-c78439f214c2",
   "metadata": {},
   "outputs": [
    {
     "name": "stdout",
     "output_type": "stream",
     "text": [
      "Overwriting panaderia.mod\n"
     ]
    }
   ],
   "source": [
    "%%writefile panaderia.mod\n",
    "# Acá Ud. debe escribir su modelo.  \n",
    "# La linea %%writefile nombre.mod guarda lo que ud. escriba\n",
    "# como nombre.mod. Es lo primero que debe ir en este bloque\n",
    "# Este será el modelo que usaremos para resolver el problema\n",
    "\n",
    "\n",
    "######\n",
    "# EJEMPLO 1\n",
    "# Ud. puede nombrar a sus variables,\n",
    "# restricciones y F.O. como lo desee.\n",
    "######\n",
    "\n",
    "\n",
    "# Variables.\n",
    "# Observe además que se incorporan\n",
    "# las restricciones de No-Negatividad.\n",
    "var x >= 0; #pan integral\n",
    "var y >= 0; #pan dulce\n",
    "\n",
    "# Función objetivo.\n",
    "maximize Z: 5*x + 4*y;\n",
    "\n",
    "# Restricciones.\n",
    "subject to harina: 1.5*x + 2*y <= 300;\n",
    "s.t.  horno: 2*x + y <= 180;"
   ]
  },
  {
   "cell_type": "code",
   "execution_count": 4,
   "id": "ea56dd00-8011-47f2-a4ec-4fa32b816cf4",
   "metadata": {},
   "outputs": [],
   "source": [
    "#Cargamos el entorno de ejecución AMPL\n",
    "ampl = AMPL()"
   ]
  },
  {
   "cell_type": "code",
   "execution_count": 5,
   "id": "d5898236-2a01-40b3-a6c1-e44ee52819c1",
   "metadata": {},
   "outputs": [],
   "source": [
    "# Carga del modelo.\n",
    "ampl.read(\"panaderia.mod\")"
   ]
  },
  {
   "cell_type": "code",
   "execution_count": 6,
   "id": "a06288a6-777a-4d23-9844-a4dc4b59f230",
   "metadata": {},
   "outputs": [
    {
     "name": "stdout",
     "output_type": "stream",
     "text": [
      "CPLEX 22.1.2: optimal solution; objective 648\n",
      "2 simplex iterations\n",
      "x = 24\n",
      "\n",
      "y = 132\n",
      "\n",
      "Z = 648\n",
      "\n"
     ]
    }
   ],
   "source": [
    "# Solve with CPLEX\n",
    "ampl.solve(solver=\"cplex\")\n",
    "#Esto es para cerciorarse que el sistema se resolvió\n",
    "assert ampl.solve_result == \"solved\"\n",
    "\n",
    "# Mostramos la respuesta.\n",
    "for var in [\"x\",\"y\",\"Z\"]:\n",
    "    ampl.display(var)"
   ]
  },
  {
   "cell_type": "markdown",
   "id": "c450df36-0b82-45fa-b72a-d45f9ace371d",
   "metadata": {},
   "source": [
    "Observe que la ganancia máxima es de 648 u.m., elaborando 24 panes integrales y 132 panes dulces"
   ]
  },
  {
   "cell_type": "markdown",
   "id": "750a0b9e-bcb2-4cbd-b3a7-2f6183ebeb67",
   "metadata": {},
   "source": [
    "---"
   ]
  },
  {
   "cell_type": "markdown",
   "id": "57d67846-95e7-4b71-91df-ee331be9424e",
   "metadata": {
    "jp-MarkdownHeadingCollapsed": true
   },
   "source": [
    "# Ejercicio 2"
   ]
  },
  {
   "cell_type": "markdown",
   "id": "4ad50812-9192-414a-a99b-123a2734aa8e",
   "metadata": {
    "jp-MarkdownHeadingCollapsed": true
   },
   "source": [
    "Cómo pudo observar, la idea es simple:\n",
    "\n",
    "```python\n",
    "# 1. Cargar AMPL\n",
    "ampl = AMPL()\n",
    "# 2. Cargar el modelo dado un archivo MODELO.mod\n",
    "ampl.read(\"MODELO.mod\")\n",
    "# 3. Resolver con algún solver (puede revisar la documentación de AMPL).\n",
    "ampl.solve(solver=\"cplex\")\n",
    "```\n",
    "\n",
    "Use la misma estructura para resolver el siguiente problema:\n",
    "\n",
    "\n",
    "> Una empresa fabrica tres productos: A, B y C. Cada uno requiere tiempo de máquina, material y mano de obra, con las siguientes necesidades por unidad producida:\n",
    "\n",
    "\n",
    "| Recurso           | Producto A | Producto B | Producto C | Disponibilidad |\n",
    "|:-----------------:|:----------:|:----------:|:----------:|:--------------|\n",
    "| Tiempo (h)        |          2 |          1 |          3 |            100 |\n",
    "| Material (kg)     |          3 |          4 |          2 |            120 |\n",
    "| Mano de obra (h)  |          1 |          2 |          1 |             90 |\n",
    "\n",
    "\n",
    "> Además, cada producto genera una utilidad:\n",
    "> - A: 30 unidades monetarias\n",
    "> - B: 20 unidades monetarias\n",
    "> - C: 40 unidades monetarias\n",
    ">   \n",
    "> Determine cuántas unidades de cada producto deben producirse para maximizar la utilidad total, respetando las restricciones de recursos."
   ]
  },
  {
   "cell_type": "code",
   "execution_count": null,
   "id": "7c84dbb8-fc27-434e-a59b-b4bc96e43b89",
   "metadata": {},
   "outputs": [],
   "source": [
    "# RESOLUCION EJEMPLO 2"
   ]
  },
  {
   "cell_type": "markdown",
   "id": "0ed60da8-0aed-47a2-8d22-053c30000b49",
   "metadata": {},
   "source": [
    "---"
   ]
  },
  {
   "cell_type": "markdown",
   "id": "978f391b-d273-4a74-8199-75cd75facd29",
   "metadata": {},
   "source": [
    "# Generalización de modelos"
   ]
  },
  {
   "cell_type": "markdown",
   "id": "687e18e6-a60b-43c9-a7f0-f6a38f0cb0b6",
   "metadata": {},
   "source": [
    "Como habrá observado, AMPL permite resolver problemas de programación lineal de forma simple.  Sin embargo, su poder radica en poder generalizar problemas y abstraerse de la forma en que se resuelve.\n",
    "\n",
    "Los problemas del ejemplo 1 y 2 tienen como forma general\n",
    "\n",
    "$$\n",
    "\\begin{aligned}\n",
    "\\text{max } && C^Tx\\\\\n",
    "\\text{s.a.:} & & \\\\\n",
    "&&Ax \\leq b \\\\\n",
    "&& x \\geq 0\\\\\n",
    "&& x \\in \\mathbb{R}^n\n",
    "\\end{aligned}\n",
    "$$"
   ]
  },
  {
   "cell_type": "markdown",
   "id": "eabcd3e1-d9e2-4012-acdb-3a022e8db015",
   "metadata": {},
   "source": [
    "## Modelo y parámetros\n",
    "\n",
    "Los problemas 1 y 2 pueden ahora escribirse de forma general.  De esta manera, sólo interesarán los parámetros asociados y no el modelo en sí.\n",
    "\n",
    "Considere el modelo general\n",
    "\n",
    "\n",
    "\n",
    "```bash\n",
    "\n",
    "set N;   # N variables\n",
    "set K;   # K restricciones\n",
    "\n",
    "param G {N} >= 0;   # vector de \"ganancia\"\n",
    "param B {K} >= 0;   # vector de restricciones\n",
    "param A {N,K} >=0;  # matriz de restricciones por variable\n",
    "var X {N} >= 0;     # N variables\n",
    "\n",
    "max ganancia:\n",
    "   sum {i in N} C[i] * X[i];\n",
    "\n",
    "subject to Restricciones {j in K}:\n",
    "   sum {i in N} X[i,j] = B[j];\n",
    "\n",
    "```\n",
    "\n",
    "En el ejemplo 1, los parámetros son los siguientes:\n",
    "```python\n",
    "G = [5,4]\n",
    "B = [300,180]\n",
    "A = [[1.5,2],\n",
    "     [2,1]]\n",
    "```\n",
    "\n",
    "Por lo tanto, crearemos un archivo que contenga dichos parámetros\n",
    "\n",
    "```bash\n",
    "set N := Dulce,integral; #dos variables o tipo  de pan\n",
    "set K := harina,horno; #las restricciones\n",
    "\n",
    "param A:\n",
    "          harina,horno:=\n",
    " dulce    2 2\n",
    " integral 1-5 1;\n",
    "\n",
    "```"
   ]
  },
  {
   "cell_type": "markdown",
   "id": "76811e85-4e81-4950-a3f7-7daf64464b6a",
   "metadata": {},
   "source": [
    "## Archivos a usar"
   ]
  },
  {
   "cell_type": "code",
   "execution_count": 7,
   "id": "b5a4be58-7255-46eb-a266-bc6bf8704991",
   "metadata": {},
   "outputs": [
    {
     "name": "stdout",
     "output_type": "stream",
     "text": [
      "Overwriting PL.mod\n"
     ]
    }
   ],
   "source": [
    "%%writefile PL.mod\n",
    "# Observe que este es el modelo general.\n",
    "set N;   # N variables\n",
    "set K;   # K restricciones\n",
    "\n",
    "param G {N} >= 0;   # vector de \"ganancia\"\n",
    "param B {K} >= 0;   # vector de restricciones\n",
    "param A {N,K} >=0;  # matriz de restricciones por variable\n",
    "var X {N} >= 0;     # N variables\n",
    "\n",
    "maximize ganancia:\n",
    "   sum {i in N} G[i] * X[i];\n",
    "\n",
    "subject to Restricciones {j in K}:\n",
    "   sum {i in N} A[i,j]*X[i] <= B[j];"
   ]
  },
  {
   "cell_type": "code",
   "execution_count": 8,
   "id": "6c44d20b-752f-4f55-924f-7f9bbaca8fa6",
   "metadata": {},
   "outputs": [
    {
     "name": "stdout",
     "output_type": "stream",
     "text": [
      "Overwriting panaderia.dat\n"
     ]
    }
   ],
   "source": [
    "%%writefile panaderia.dat\n",
    "# Observe que el archivo ahora tiene extensión .dat\n",
    "# esto indica que son datos del problema\n",
    "\n",
    "set N := Dulce integ;\n",
    "set K := harina horno;\n",
    "\n",
    "#ganancia\n",
    "param G :=\n",
    " Dulce  5\n",
    " integ  4;\n",
    "\n",
    "#valores máximos\n",
    "param B :=\n",
    " harina  300\n",
    " horno   180;\n",
    "\n",
    "#restricciones\n",
    "param A: harina horno :=\n",
    " Dulce    1.5    2\n",
    " integ    2      1;"
   ]
  },
  {
   "cell_type": "code",
   "execution_count": 11,
   "id": "1202d6c3-ebad-43f9-8274-d495483a0680",
   "metadata": {},
   "outputs": [
    {
     "name": "stdout",
     "output_type": "stream",
     "text": [
      "CPLEX 22.1.2: optimal solution; objective 648\n",
      "2 simplex iterations\n",
      "X [*] :=\n",
      "Dulce   24\n",
      "integ  132\n",
      ";\n",
      "\n"
     ]
    }
   ],
   "source": [
    "# 1. Limpiamos la sesion anterior y creamos una nueva\n",
    "ampl.close()\n",
    "ampl = AMPL()\n",
    "# 2. Cargar el modelo dado un archivo MODELO.mod\n",
    "ampl.read(\"PL.mod\")\n",
    "# 3. CARGAR LOS DATOS DEL PROBLEMA\n",
    "ampl.read_data(\"panaderia.dat\")\n",
    "# 3. Resolver con algún solver (puede revisar la documentación de AMPL).\n",
    "ampl.solve(solver=\"cplex\")\n",
    "\n",
    "assert ampl.solve_result == \"solved\"\n",
    "\n",
    "# Mostramos la respuesta.\n",
    "for var in [\"X\"]:\n",
    "    ampl.display(var)"
   ]
  },
  {
   "cell_type": "markdown",
   "id": "1d2ad609-d4e8-4549-8f2a-e9eba5aaae05",
   "metadata": {},
   "source": [
    "# Ejercicio 3\n",
    "\n",
    "Usando la estructura de un problema de programación lineal general, resuelva el problema 2.  Para ello, cree el archivo .dat requerido"
   ]
  },
  {
   "cell_type": "code",
   "execution_count": null,
   "id": "42d43e9b-7e9b-4b2e-ab61-e64b3a5860e5",
   "metadata": {},
   "outputs": [],
   "source": [
    "%%writefile ejercicio2.dat\n",
    "\n",
    "#Escriba acá sus parámetros\n",
    "\n"
   ]
  },
  {
   "cell_type": "markdown",
   "id": "bb283f0b-9da5-4552-b2d5-40de8d44b321",
   "metadata": {},
   "source": [
    "---"
   ]
  },
  {
   "cell_type": "markdown",
   "id": "454a9667-0304-4bc6-9e1e-8329126cfe12",
   "metadata": {},
   "source": [
    "# Problema de Asignación"
   ]
  },
  {
   "cell_type": "markdown",
   "id": "001edb02-13a4-450e-b852-a0b8de416206",
   "metadata": {},
   "source": [
    "Ahora se encuentra en condiciones de avanzar a problemas más complejos.  Recuerde el problema de asignación planteado en el taller anterior.\n",
    "\n",
    "1. Escriba el problema general en formato AMPL.\n",
    "2. Cargue el archivo asignacion.dat\n",
    "3. Resuelvalo.\n",
    "\n",
    "El profesor estará atento para ayudarle\n"
   ]
  },
  {
   "cell_type": "code",
   "execution_count": null,
   "id": "4565d04a-da6c-4df1-bd4c-009e73b18d59",
   "metadata": {},
   "outputs": [],
   "source": []
  }
 ],
 "metadata": {
  "kernelspec": {
   "display_name": "Python 3 (ipykernel)",
   "language": "python",
   "name": "python3"
  },
  "language_info": {
   "codemirror_mode": {
    "name": "ipython",
    "version": 3
   },
   "file_extension": ".py",
   "mimetype": "text/x-python",
   "name": "python",
   "nbconvert_exporter": "python",
   "pygments_lexer": "ipython3",
   "version": "3.12.3"
  }
 },
 "nbformat": 4,
 "nbformat_minor": 5
}
